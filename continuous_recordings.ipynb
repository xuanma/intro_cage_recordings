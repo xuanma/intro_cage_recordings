{
 "cells": [
  {
   "cell_type": "markdown",
   "metadata": {},
   "source": [
    "## Background"
   ]
  },
  {
   "cell_type": "markdown",
   "metadata": {},
   "source": [
    "In order to manage all useful information and data in these recordings more effectively, I created a class structure called `cage_data`. Each `.pkl` file in the folder `continuous` contains one `cage_data` object, corresponding to one of the 15-minute long recording files. For some practical reasons, we have a 2-second long pause between every two adjacent 15-minute long recording files.\n",
    "\n",
    "To read those `.pkl` files, first you need to have the codes defining the `cage_data` object in your path. You can find those codes in this [repo](https://github.com/limblab/cage_data). Clone it to your local machine, and simply add it to your path like this:"
   ]
  },
  {
   "cell_type": "code",
   "execution_count": 1,
   "metadata": {},
   "outputs": [],
   "source": [
    "import fnmatch, os, sys\n",
    "sys.path.append('path to the cloned repo/cage_data')"
   ]
  },
  {
   "cell_type": "code",
   "execution_count": 2,
   "metadata": {},
   "outputs": [],
   "source": [
    "import cage_data\n",
    "import numpy as np"
   ]
  },
  {
   "cell_type": "markdown",
   "metadata": {},
   "source": [
    "## Load one file as an example\n",
    "\n",
    "Data are stored in the variable `my_cage_data`, an instance of the `cage_data` class."
   ]
  },
  {
   "cell_type": "code",
   "execution_count": 3,
   "metadata": {},
   "outputs": [
    {
     "name": "stdout",
     "output_type": "stream",
     "text": [
      "The file E:/Box Sync/Pop_20201020/cage/50ms/continuous/20201020_Pop_Cage_003.pkl is going to be loaded\n",
      "This is a non-sorted file\n",
      "EMG filtered? -- True\n",
      "EMG filtered? -- True\n",
      "Cortical data cleaned? -- True\n",
      "Data binned? -- True\n",
      "Spikes smoothed? -- True\n"
     ]
    }
   ],
   "source": [
    "import pickle\n",
    "\n",
    "data_path = 'E:/Box Sync/Pop_20201020/cage/50ms/continuous/'\n",
    "file_name = '20201020_Pop_Cage_003.pkl'\n",
    "print('The file %s is going to be loaded'%(data_path + file_name))\n",
    "with open ( data_path + file_name, 'rb' ) as fp:\n",
    "    my_cage_data = pickle.load(fp)\n",
    "my_cage_data.pre_processing_summary()"
   ]
  },
  {
   "cell_type": "markdown",
   "metadata": {},
   "source": [
    "## Some basic information about the file just loaded"
   ]
  },
  {
   "cell_type": "code",
   "execution_count": 4,
   "metadata": {},
   "outputs": [
    {
     "name": "stdout",
     "output_type": "stream",
     "text": [
      "There are 72 cortical channels\n",
      "There are 15 EMG channels\n",
      "The raw EMG signals are sampled at 2011.061 Hz\n",
      "There are 124 behavior segments in this file\n",
      "The length of this file is 900.108 seconds\n",
      "Spikes and EMGs are binned or downsampled with 0.05 seconds time bins\n"
     ]
    }
   ],
   "source": [
    "print('There are %d cortical channels'%(len(my_cage_data.spikes)))\n",
    "print('There are %d EMG channels'%(len(my_cage_data.EMG_diff)))\n",
    "print('The raw EMG signals are sampled at %.3f Hz'%(my_cage_data.EMG_fs))\n",
    "print('There are %d behavior segments in this file'%(len(my_cage_data.behave_tags['tag'])))\n",
    "print('The length of this file is %.3f seconds'%(my_cage_data.EMG_timeframe[-1]))\n",
    "print('Spikes and EMGs are binned or downsampled with %.2f seconds time bins'%(my_cage_data.binned['timeframe'][1]-my_cage_data.binned['timeframe'][0]))"
   ]
  },
  {
   "cell_type": "markdown",
   "metadata": {},
   "source": [
    "## How to get raw EMGs?\n",
    "\n",
    "The raw EMGs are acquired by DSPW wireless system with an Intan RHD2132 frontend. Since the channels on RHD2132 are all single-ended, we do software differential after getting the signals. Therefore, here the raw EMGs are stored in a field called `EMG_diff`.\n",
    "\n",
    "More specifically, `EMG_diff` is an attribute of the `cage_data` class, and could be accessed by calling:\n",
    "* raw_EMGs = my_cage_data.EMG_diff\n",
    "\n",
    "And the sampling frequency of the raw EMGs could be obtained by calling:\n",
    "* fs_raw_EMG = my_cage_data.EMG_fs\n",
    "\n",
    "The time frame of the raw EMGs could be obtained by calling:\n",
    "* raw_EMG_timeframe = my_cage_data.EMG_timeframe\n",
    "\n",
    "The names of each EMG channel could be got by:\n",
    "* EMG_names = my_cage_data.EMG_names"
   ]
  },
  {
   "cell_type": "code",
   "execution_count": 5,
   "metadata": {},
   "outputs": [
    {
     "name": "stdout",
     "output_type": "stream",
     "text": [
      "There are 15 channels, and each channel has 1810172 time samples\n",
      "The raw EMG signals are sampled 2011.061 Hz\n",
      "['APB', 'Lum', 'PT', 'FDP2', 'FCR1', 'FCU1', 'FCUR', 'FPB', '3DI', 'SUP', 'ECU', 'ECR', 'EDC1', 'BI', 'TRI']\n"
     ]
    }
   ],
   "source": [
    "raw_EMGs = my_cage_data.EMG_diff\n",
    "print('There are %d channels, and each channel has %d time samples'%(len(raw_EMGs), len(raw_EMGs[0])))\n",
    "\n",
    "raw_EMG_timeframe = my_cage_data.EMG_timeframe\n",
    "\n",
    "fs_raw_EMG = my_cage_data.EMG_fs\n",
    "print('The raw EMG signals are sampled %.3f Hz'%(fs_raw_EMG))\n",
    "\n",
    "EMG_names = my_cage_data.EMG_names\n",
    "print(EMG_names)"
   ]
  },
  {
   "cell_type": "markdown",
   "metadata": {},
   "source": [
    "Here `raw_EMGs` is a list"
   ]
  },
  {
   "cell_type": "markdown",
   "metadata": {},
   "source": [
    "## How to get raw spike timings?\n",
    "\n",
    "Raw spike timings are stored with the attribute `spikes`, and could be got like this:\n",
    "* spike_timing = my_cage_data.spikes"
   ]
  },
  {
   "cell_type": "code",
   "execution_count": 6,
   "metadata": {},
   "outputs": [],
   "source": [
    "spike_timing = my_cage_data.spikes"
   ]
  },
  {
   "cell_type": "markdown",
   "metadata": {},
   "source": [
    "Here `spike_timing` is a list"
   ]
  },
  {
   "cell_type": "markdown",
   "metadata": {},
   "source": [
    "## How to get binned / downsampled spike counts and filtered EMG envelops? \n",
    "\n",
    "The binned data is stored with another attribute named `binned`. It is a dictionary, and could be accessed like this:\n",
    "* binned = my_cage_data.binned\n",
    "\n",
    "There are 4 fields in this dictionary:\n",
    "* spikes: binned spike counts\n",
    "* filtered_EMG: EMG envelops been rectified, filtered and downsampled\n",
    "* FSR_data: the data from force sensitive resistors inside the plastic cage, only meaningful for power grasping\n",
    "* timeframe: the common time frame for the 3 types of data above\n",
    "\n",
    "Data in the files we are using now are binned with 50 ms time bins"
   ]
  },
  {
   "cell_type": "code",
   "execution_count": 7,
   "metadata": {},
   "outputs": [
    {
     "name": "stdout",
     "output_type": "stream",
     "text": [
      "dict_keys(['timeframe', 'spikes', 'filtered_EMG', 'FSR_data'])\n"
     ]
    }
   ],
   "source": [
    "print(my_cage_data.binned.keys())\n",
    "\n",
    "# To get the binned spike counts\n",
    "binned_spike_counts = my_cage_data.binned['spikes']\n",
    "\n",
    "# To get the rectified, filtered and downsampled EMGs\n",
    "filtered_EMG = my_cage_data.binned['filtered_EMG']\n",
    "\n",
    "# To get the time frame of the binned data\n",
    "timeframe = my_cage_data.binned['timeframe']"
   ]
  },
  {
   "cell_type": "markdown",
   "metadata": {},
   "source": [
    "## How to get the information about the monkey's behavior?\n",
    "The start time and end time and the type of the behaivor of each behavior segment are stored with the attribute `behave_tags`, which is also a dictionary. It has 3 fields, and the names of them are self-explanatory:\n",
    "\n",
    "* start_time\n",
    "* end_time\n",
    "* tag\n",
    "\n",
    "For example, check the 74th behavior segment in this file:"
   ]
  },
  {
   "cell_type": "code",
   "execution_count": 8,
   "metadata": {},
   "outputs": [
    {
     "name": "stdout",
     "output_type": "stream",
     "text": [
      "During the 74th behavior segment, the monkey was doing 'pg'\n",
      "The start time of the 74th behavior segment is at the 468.710 second\n",
      "The end time of the 74th behavior segment is at the 470.276 second\n"
     ]
    }
   ],
   "source": [
    "N = 74\n",
    "print('During the %dth behavior segment, the monkey was doing \\'%s\\''%(N, my_cage_data.behave_tags['tag'][N]))\n",
    "print('The start time of the %dth behavior segment is at the %.3f second'%(N, my_cage_data.behave_tags['start_time'][N]))\n",
    "print('The end time of the %dth behavior segment is at the %.3f second'%(N, my_cage_data.behave_tags['end_time'][N]))"
   ]
  },
  {
   "cell_type": "markdown",
   "metadata": {},
   "source": [
    "Note the index of the first behavior segment is \"_0_\""
   ]
  },
  {
   "cell_type": "markdown",
   "metadata": {},
   "source": [
    "In fact, the behavior segments stored in the files I shared last time are generated by the function below. But since we already have them, further introduction is not needed here"
   ]
  },
  {
   "cell_type": "code",
   "execution_count": 9,
   "metadata": {},
   "outputs": [],
   "source": [
    "behavior_segs = my_cage_data.get_all_data_segment(requires_raw_EMG = True, requires_spike_timing = True)\n",
    "# You can save behavior_segs to the disk if you would like"
   ]
  },
  {
   "cell_type": "markdown",
   "metadata": {},
   "source": [
    "## A function to filter the raw EMGs\n",
    "A number of useful functions are designed as the methods of the `cage_data` behavior. This one is used to filter the raw EMGs and then to get the EMG envelops\n",
    "* EMG_filtering(self, f_Hz), `f_Hz` is the corner frequency of the low pass filter to get the envelops\n",
    "\n",
    "There is no return from this function. This function will update (or create if not existing) the attribute `filtered_EMG`.\n",
    "\n",
    "Note that here `filtered_EMG` is an attribute of the `cage_data` class, which is different from the field `filtered_EMG` under the attribute `binned`\n"
   ]
  },
  {
   "cell_type": "code",
   "execution_count": 13,
   "metadata": {},
   "outputs": [
    {
     "name": "stdout",
     "output_type": "stream",
     "text": [
      "All EMG channels have been filtered.\n"
     ]
    }
   ],
   "source": [
    "# Filtering the raw EMGs with a 15 Hz low-pass filter and to get the rectified envelops, all done with this function\n",
    "my_cage_data.EMG_filtering(15)\n",
    "EMG_envelops = my_cage_data.filtered_EMG"
   ]
  },
  {
   "cell_type": "markdown",
   "metadata": {},
   "source": [
    "As no downsampling or binning is performed here, the obtained EMG envelops are still have the same sampling frequency as the raw EMGs, which is `my_cage_data.EMG_fs` as mentioned above."
   ]
  },
  {
   "cell_type": "markdown",
   "metadata": {},
   "source": [
    "## A function to bin the spikes and downsample the EMGs\n",
    "Although the files shared in Box are all binned with 50 msec bins, you can still use this function to re-bin the data. After doing this, the items in the attribute `binned` will be updated.\n",
    "* bin_data(self, bin_size, mode = 'center')\n",
    "\n",
    "`bin_size` is the size of the bin in seconds. `mode` is the way to align the time bins, `center` is OK, and another option is `left`\n",
    "\n",
    "This function will not return a value either. It only update the attribute `binned`"
   ]
  },
  {
   "cell_type": "code",
   "execution_count": 14,
   "metadata": {},
   "outputs": [
    {
     "name": "stdout",
     "output_type": "stream",
     "text": [
      "Binning spikes with 0.0200 s\n",
      "Filtered EMGs have been downsampled\n",
      "FSR data have been downsampled\n",
      "Data have been binned.\n"
     ]
    }
   ],
   "source": [
    "new_bin_size = 0.02 # 20 msec\n",
    "my_cage_data.bin_data(new_bin_size)"
   ]
  },
  {
   "cell_type": "markdown",
   "metadata": {},
   "source": [
    "## More..."
   ]
  },
  {
   "cell_type": "markdown",
   "metadata": {},
   "source": [
    "By calling the function `save_to_pickle` like this:\n",
    "* my_cage_data.save_to_pickle(save_path, save_file_name)\n",
    "\n",
    "You could save the instance you updated.\n",
    "\n",
    "If the `my_cage_data` instance is occupying too much memory, just delete it like this\n",
    "* del(my_cage_data)\n",
    "\n",
    "You could pull different types of data from it and save them individually before deleting it"
   ]
  }
 ],
 "metadata": {
  "kernelspec": {
   "display_name": "Python 3",
   "language": "python",
   "name": "python3"
  },
  "language_info": {
   "codemirror_mode": {
    "name": "ipython",
    "version": 3
   },
   "file_extension": ".py",
   "mimetype": "text/x-python",
   "name": "python",
   "nbconvert_exporter": "python",
   "pygments_lexer": "ipython3",
   "version": "3.7.7"
  }
 },
 "nbformat": 4,
 "nbformat_minor": 4
}
